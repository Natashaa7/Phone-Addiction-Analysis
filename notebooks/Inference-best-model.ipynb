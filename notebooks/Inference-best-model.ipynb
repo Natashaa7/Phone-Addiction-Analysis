{
 "cells": [
  {
   "cell_type": "markdown",
   "id": "92c3475f-3c23-4ffe-b73f-175b83b9e13d",
   "metadata": {},
   "source": [
    "# Inference of best model"
   ]
  },
  {
   "cell_type": "code",
   "execution_count": 9,
   "id": "cdebe9f5-1c98-4de6-a7ac-bacb1ca28201",
   "metadata": {},
   "outputs": [
    {
     "name": "stdin",
     "output_type": "stream",
     "text": [
      "Enter Age:  19\n",
      "Enter Daily Usage Hours:  4\n",
      "Enter Sleep Hours:  5\n",
      "Enter Academic Performance (1-100):  3\n",
      "Enter Social Interactions (scale 1-10):  6\n",
      "Enter Exercise Hours:  4\n",
      "Enter Anxiety Level (scale 1-10):  5\n",
      "Enter Depression Level (scale 1-10):  4\n",
      "Enter Self Esteem Level (scale 1-10):  3\n",
      "Enter Phone Checks Per Day:  6\n",
      "Enter Number of Apps Used Daily:  5\n",
      "Enter Time on Social Media (hours):  4\n",
      "Enter Time on Gaming (hours):  3\n",
      "Enter Time on Education (hours):  5\n",
      "Enter Family Communication (scale 1-10):  6\n",
      "Enter Weekend Usage Hours:  4\n",
      "Enter Gender (Male/Female/Other):  male\n",
      "Enter Phone Usage Purpose (Browsing/Education/Social Media/Gaming/Other):  gaming\n",
      "Enter School Grade (7th-12th):  9th\n"
     ]
    },
    {
     "name": "stdout",
     "output_type": "stream",
     "text": [
      "Predicted Class: ['High']\n",
      "The addiction level is:  ['High']\n",
      "Prediction Probabilities: [[9.99862837e-01 1.07494333e-11 1.37162794e-04]]\n"
     ]
    }
   ],
   "source": [
    "import joblib\n",
    "import pandas as pd\n",
    "# Load pipeline \n",
    "loaded_model = joblib.load('gb_tuned.joblib') \n",
    "# Collect input from the user \n",
    "user_input = { 'Age': int(input(\"Enter Age: \")), \n",
    "               'Daily_Usage_Hours': float(input(\"Enter Daily Usage Hours: \")), \n",
    "               'Sleep_Hours': float(input(\"Enter Sleep Hours: \")), \n",
    "               'Academic_Performance': int(input(\"Enter Academic Performance (1-100): \")), \n",
    "               'Social_Interactions': int(input(\"Enter Social Interactions (scale 1-10): \")), \n",
    "               'Exercise_Hours': float(input(\"Enter Exercise Hours: \")), \n",
    "               'Anxiety_Level': int(input(\"Enter Anxiety Level (scale 1-10): \")), \n",
    "               'Depression_Level': int(input(\"Enter Depression Level (scale 1-10): \")), \n",
    "               'Self_Esteem': int(input(\"Enter Self Esteem Level (scale 1-10): \")), \n",
    "               'Phone_Checks_Per_Day': int(input(\"Enter Phone Checks Per Day: \")), \n",
    "               'Apps_Used_Daily': int(input(\"Enter Number of Apps Used Daily: \")), \n",
    "               'Time_on_Social_Media': float(input(\"Enter Time on Social Media (hours): \")), \n",
    "               'Time_on_Gaming': float(input(\"Enter Time on Gaming (hours): \")), \n",
    "               'Time_on_Education': float(input(\"Enter Time on Education (hours): \")), \n",
    "               'Family_Communication': int(input(\"Enter Family Communication (scale 1-10): \")), \n",
    "               'Weekend_Usage_Hours': float(input(\"Enter Weekend Usage Hours: \")), \n",
    "               'Gender': input(\"Enter Gender (Male/Female/Other): \"), \n",
    "               'Phone_Usage_Purpose': input(\"Enter Phone Usage Purpose (Browsing/Education/Social Media/Gaming/Other): \"), \n",
    "               'School_Grade': input(\"Enter School Grade (7th-12th): \") } \n",
    "\n",
    "# Convert to DataFrame \n",
    "new_data = pd.DataFrame([user_input]) \n",
    "\n",
    "# Predict\n",
    "y_pred_new = loaded_model.predict(new_data) \n",
    "y_pred_proba_new = loaded_model.predict_proba(new_data) \n",
    "print(\"Predicted Class:\", y_pred_new) \n",
    "print(\"The addiction level is: \", y_pred_new) \n",
    "print(\"Prediction Probabilities:\", y_pred_proba_new)"
   ]
  }
 ],
 "metadata": {
  "kernelspec": {
   "display_name": "Python [conda env:base] *",
   "language": "python",
   "name": "conda-base-py"
  },
  "language_info": {
   "codemirror_mode": {
    "name": "ipython",
    "version": 3
   },
   "file_extension": ".py",
   "mimetype": "text/x-python",
   "name": "python",
   "nbconvert_exporter": "python",
   "pygments_lexer": "ipython3",
   "version": "3.12.2"
  }
 },
 "nbformat": 4,
 "nbformat_minor": 5
}
